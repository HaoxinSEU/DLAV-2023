{
 "cells": [
  {
   "cell_type": "code",
   "execution_count": 1,
   "metadata": {
    "id": "fPFXjAVFIKnh"
   },
   "outputs": [],
   "source": [
    "import argparse\n",
    "import numpy as np\n",
    "import torch\n",
    "import torch.nn.functional as F\n",
    "import pickle\n",
    "import platform\n",
    "import os"
   ]
  },
  {
   "cell_type": "code",
   "execution_count": 2,
   "metadata": {
    "id": "uGxnwhvlwMiI"
   },
   "outputs": [],
   "source": [
    "# from google.colab import drive\n",
    "# drive.mount('/content/drive')"
   ]
  },
  {
   "cell_type": "code",
   "execution_count": 3,
   "metadata": {
    "id": "SwxcJW9wI9fp"
   },
   "outputs": [
    {
     "name": "stderr",
     "output_type": "stream",
     "text": [
      "Cloning into 'DLAV-2023'...\n"
     ]
    }
   ],
   "source": [
    "!git clone https://github.com/vita-epfl/DLAV-2023.git\n",
    "path = os.getcwd() + '/DLAV-2023/homeworks/hw2/part1/test_batch'"
   ]
  },
  {
   "cell_type": "code",
   "execution_count": 4,
   "metadata": {
    "id": "pZXQTJIKJE_S"
   },
   "outputs": [],
   "source": [
    "# Write the location of the saved weight relative to this notebook. Assume that they are in the same directory\n",
    "### Path to Model Weights \n",
    "pytorch_weights = \"./linearClassifier_pytorch.ckpt\""
   ]
  },
  {
   "cell_type": "markdown",
   "metadata": {
    "id": "6chaH4G-Vfms"
   },
   "source": [
    "**TODO:** Copy the model you created from the Pytorch Notebook"
   ]
  },
  {
   "cell_type": "code",
   "execution_count": 5,
   "metadata": {
    "id": "mSTfKTHEJBhy"
   },
   "outputs": [],
   "source": [
    "class Net(torch.nn.Module):\n",
    "    def __init__(self, n_feature, n_hidden, n_output):\n",
    "        super(Net, self).__init__()\n",
    "\n",
    "        # input layer\n",
    "        self.fc1 = torch.nn.Linear(n_feature, n_hidden[0])\n",
    "        # 2 hidden layers, number of nodes specified by n_hidden\n",
    "        self.fc2 = torch.nn.Linear(n_hidden[0], n_hidden[1])\n",
    "        self.fc3 = torch.nn.Linear(n_hidden[1], n_hidden[2])\n",
    "        # Output layer, 10 units - one for each class\n",
    "        self.fc4 = torch.nn.Linear(n_hidden[2], n_output)\n",
    "\n",
    "\n",
    "    def forward(self, x):\n",
    "        x = x.view(x.size(0),-1)\n",
    "        # forward pass of input layer, activation func: ReLu\n",
    "        x = self.fc1(x)\n",
    "        x = F.relu(x)\n",
    "        # forward pass of hidden layer, activation func: ReLu\n",
    "        x = self.fc2(x)\n",
    "        x = F.relu(x)\n",
    "        x = self.fc3(x)\n",
    "        # forward pass of output layer, activation func: ReLu\n",
    "        x = F.relu(x)\n",
    "        x = self.fc4(x)\n",
    "        return x"
   ]
  },
  {
   "cell_type": "markdown",
   "metadata": {
    "id": "_UUbNTUAVsos"
   },
   "source": [
    "**TODO**: Follow the instructions in each of the following methods. **Note that these methods should return a 1-D array of size N where N is the number of data samples. The values should be the predicted classes [0,...,9].**\n",
    "\n"
   ]
  },
  {
   "cell_type": "code",
   "execution_count": 10,
   "metadata": {
    "id": "bEKafMuaI4By"
   },
   "outputs": [],
   "source": [
    "def predict_usingPytorch(X):\n",
    "    #########################################################################\n",
    "    # TODO:                                                                 #\n",
    "    # - Create your model                                                   #\n",
    "    # - Load your saved model                                               #\n",
    "    # - Do the operation required to get the predictions                    #\n",
    "    # - Return predictions in a numpy array (hint: return \"argmax\")         #\n",
    "    #########################################################################\n",
    "    net = Net(n_feature=32*32*3, n_hidden=[128, 128, 64], n_output=10)     # create the model\n",
    "    net.load_state_dict(torch.load(pytorch_weights)) # load the model\n",
    "    outputs = net(X) # predict use the model\n",
    "    _, y_pred = torch.max(F.softmax(outputs).data, 1) # get the predicted model\n",
    "    #########################################################################\n",
    "    #                       END OF YOUR CODE                                #\n",
    "    #########################################################################\n",
    "    return y_pred.numpy()\n"
   ]
  },
  {
   "cell_type": "markdown",
   "metadata": {
    "id": "q8dM8fj39OBP"
   },
   "source": [
    "This method loads the test dataset to evaluate the model."
   ]
  },
  {
   "cell_type": "code",
   "execution_count": 11,
   "metadata": {
    "id": "400u4eZNJAZq"
   },
   "outputs": [],
   "source": [
    "## Read DATA\n",
    "def load_pickle(f):\n",
    "    version = platform.python_version_tuple()\n",
    "    if version[0] == '2':\n",
    "        return  pickle.load(f)\n",
    "    elif version[0] == '3':\n",
    "        return  pickle.load(f, encoding='latin1')\n",
    "    raise ValueError(\"invalid python version: {}\".format(version))\n",
    "\n",
    "def load_CIFAR_batch(filename):\n",
    "  \"\"\" load single batch of cifar \"\"\"\n",
    "  with open(filename, 'rb') as f:\n",
    "    datadict = load_pickle(f)\n",
    "    X = datadict['data']\n",
    "    Y = datadict['labels']\n",
    "    X = X.reshape(10000, 3, 32, 32).transpose(0,2,3,1).astype(\"float\")\n",
    "    Y = np.array(Y)\n",
    "    return X, Y\n",
    "test_filename = path\n",
    "X,Y = load_CIFAR_batch(test_filename)"
   ]
  },
  {
   "cell_type": "markdown",
   "metadata": {
    "id": "AJ3mBYnx9TIe"
   },
   "source": [
    "This code snippet prepares the data for the model. If you modify data manipulation in your notebooks, make sure to include them here. "
   ]
  },
  {
   "cell_type": "code",
   "execution_count": 12,
   "metadata": {
    "id": "IEmU5KnwJPBY"
   },
   "outputs": [],
   "source": [
    "## Data Manipulation\n",
    "\n",
    "mean = np.array([0.4914, 0.4822, 0.4465])\n",
    "std = np.array([0.2023, 0.1994, 0.2010])\n",
    "X = np.divide(np.subtract( X/255 , mean[np.newaxis,np.newaxis,:]), std[np.newaxis,np.newaxis,:])\n",
    "\n",
    "X_pytorch = torch.Tensor(np.moveaxis(X,-1,1))\n"
   ]
  },
  {
   "cell_type": "markdown",
   "metadata": {
    "id": "O2nQbKPL9c3G"
   },
   "source": [
    "Runs evaluation on the Pytorch model. **Be careful that *prediction_pytorch* and *prediction_softmax* are 1-D array of size N where N is the number of data samples. The values should be the predicted class [0,...,9]**\n",
    "\n",
    "---\n",
    "\n"
   ]
  },
  {
   "cell_type": "code",
   "execution_count": 15,
   "metadata": {
    "id": "VKFPhm1wJjDv"
   },
   "outputs": [
    {
     "name": "stderr",
     "output_type": "stream",
     "text": [
      "<ipython-input-10-c8ddc16018a7>:12: UserWarning: Implicit dimension choice for softmax has been deprecated. Change the call to include dim=X as an argument.\n",
      "  _, y_pred = torch.max(F.softmax(outputs).data, 1) # get the predicted model\n"
     ]
    },
    {
     "ename": "TypeError",
     "evalue": "only size-1 arrays can be converted to Python scalars",
     "output_type": "error",
     "traceback": [
      "\u001B[1;31m---------------------------------------------------------------------------\u001B[0m",
      "\u001B[1;31mTypeError\u001B[0m                                 Traceback (most recent call last)",
      "\u001B[1;32m<ipython-input-15-73ff785bb20d>\u001B[0m in \u001B[0;36m<module>\u001B[1;34m\u001B[0m\n\u001B[0;32m      4\u001B[0m \u001B[1;31m## Run Evaluation\u001B[0m\u001B[1;33m\u001B[0m\u001B[1;33m\u001B[0m\u001B[1;33m\u001B[0m\u001B[0m\n\u001B[0;32m      5\u001B[0m \u001B[0macc_pytorch\u001B[0m \u001B[1;33m=\u001B[0m \u001B[0msum\u001B[0m\u001B[1;33m(\u001B[0m\u001B[0mprediction_pytorch\u001B[0m \u001B[1;33m==\u001B[0m \u001B[0mY\u001B[0m\u001B[1;33m)\u001B[0m\u001B[1;33m/\u001B[0m\u001B[0mlen\u001B[0m\u001B[1;33m(\u001B[0m\u001B[0mX\u001B[0m\u001B[1;33m)\u001B[0m\u001B[1;33m\u001B[0m\u001B[1;33m\u001B[0m\u001B[0m\n\u001B[1;32m----> 6\u001B[1;33m \u001B[0mprint\u001B[0m\u001B[1;33m(\u001B[0m\u001B[1;34m\"Softmax= %f ... Pytorch= %f\"\u001B[0m\u001B[1;33m%\u001B[0m\u001B[1;33m(\u001B[0m\u001B[0mprediction_pytorch\u001B[0m\u001B[1;33m,\u001B[0m \u001B[0macc_pytorch\u001B[0m\u001B[1;33m)\u001B[0m\u001B[1;33m)\u001B[0m\u001B[1;33m\u001B[0m\u001B[1;33m\u001B[0m\u001B[0m\n\u001B[0m",
      "\u001B[1;31mTypeError\u001B[0m: only size-1 arrays can be converted to Python scalars"
     ]
    }
   ],
   "source": [
    "## Run Prediction\n",
    "prediction_pytorch = predict_usingPytorch(X_pytorch)\n",
    "\n",
    "## Run Evaluation\n",
    "acc_pytorch = sum(prediction_pytorch == Y)/len(X)\n",
    "print(\"Softmax= %f ... Pytorch= %f\"%(prediction_pytorch, acc_pytorch))"
   ]
  },
  {
   "cell_type": "code",
   "execution_count": 14,
   "outputs": [
    {
     "data": {
      "text/plain": "0.5365"
     },
     "execution_count": 14,
     "metadata": {},
     "output_type": "execute_result"
    }
   ],
   "source": [
    "acc_pytorch"
   ],
   "metadata": {
    "collapsed": false,
    "pycharm": {
     "name": "#%%\n"
    }
   }
  },
  {
   "cell_type": "code",
   "execution_count": null,
   "outputs": [],
   "source": [],
   "metadata": {
    "collapsed": false,
    "pycharm": {
     "name": "#%%\n"
    }
   }
  }
 ],
 "metadata": {
  "colab": {
   "collapsed_sections": [],
   "name": "Evaluator.ipynb",
   "provenance": []
  },
  "kernelspec": {
   "display_name": "Python 3.8.0 64-bit",
   "language": "python",
   "name": "python3"
  },
  "language_info": {
   "codemirror_mode": {
    "name": "ipython",
    "version": 3
   },
   "file_extension": ".py",
   "mimetype": "text/x-python",
   "name": "python",
   "nbconvert_exporter": "python",
   "pygments_lexer": "ipython3",
   "version": "3.8.0"
  },
  "vscode": {
   "interpreter": {
    "hash": "df0893f56f349688326838aaeea0de204df53a132722cbd565e54b24a8fec5f6"
   }
  }
 },
 "nbformat": 4,
 "nbformat_minor": 1
}